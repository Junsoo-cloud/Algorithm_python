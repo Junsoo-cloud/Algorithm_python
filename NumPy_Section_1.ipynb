{
  "nbformat": 4,
  "nbformat_minor": 0,
  "metadata": {
    "colab": {
      "provenance": [],
      "authorship_tag": "ABX9TyOy1ohVfxgIWjFQr55QhdQF",
      "include_colab_link": true
    },
    "kernelspec": {
      "name": "python3",
      "display_name": "Python 3"
    },
    "language_info": {
      "name": "python"
    }
  },
  "cells": [
    {
      "cell_type": "markdown",
      "metadata": {
        "id": "view-in-github",
        "colab_type": "text"
      },
      "source": [
        "<a href=\"https://colab.research.google.com/github/Junsoo-cloud/Algorithm_python/blob/master/NumPy_Section_1.ipynb\" target=\"_parent\"><img src=\"https://colab.research.google.com/assets/colab-badge.svg\" alt=\"Open In Colab\"/></a>"
      ]
    },
    {
      "cell_type": "code",
      "execution_count": 2,
      "metadata": {
        "id": "UxsUSLOYVeL_"
      },
      "outputs": [],
      "source": [
        "import numpy as np\n",
        "import matplotlib.pyplot as plt"
      ]
    },
    {
      "cell_type": "markdown",
      "source": [
        "Section 1. N차원 배열 생성\n"
      ],
      "metadata": {
        "id": "LmFwCPhiXedg"
      }
    },
    {
      "cell_type": "markdown",
      "source": [
        "1-1. N차원 배열 생성하기"
      ],
      "metadata": {
        "id": "MzapFB4qXXXj"
      }
    },
    {
      "cell_type": "code",
      "source": [
        "# 1차원 배열\n",
        "arr = np.array([1, 2, 3])\n",
        "print(arr)\n",
        "\n",
        "# 2차원 배열\n",
        "arr = np.array([[1, 2, 3],\n",
        "               [4, 5, 6]])\n",
        "print(arr)"
      ],
      "metadata": {
        "colab": {
          "base_uri": "https://localhost:8080/"
        },
        "id": "8rQyEHTZXhp5",
        "outputId": "0d8c112d-fee7-4e05-ae9d-22aa112f96cd"
      },
      "execution_count": null,
      "outputs": [
        {
          "output_type": "stream",
          "name": "stdout",
          "text": [
            "[1 2 3]\n",
            "[[1 2 3]\n",
            " [4 5 6]]\n"
          ]
        }
      ]
    },
    {
      "cell_type": "code",
      "source": [
        "# list와 array\n",
        "type([1, 2, 3])\n",
        "type(arr)"
      ],
      "metadata": {
        "colab": {
          "base_uri": "https://localhost:8080/"
        },
        "id": "C7uX4_ZSXbwR",
        "outputId": "b821ea73-b9a2-4907-d68e-9300aed5de5b"
      },
      "execution_count": null,
      "outputs": [
        {
          "output_type": "execute_result",
          "data": {
            "text/plain": [
              "numpy.ndarray"
            ]
          },
          "metadata": {},
          "execution_count": 9
        }
      ]
    },
    {
      "cell_type": "code",
      "source": [
        "tpl = (3, 4, 5)\n",
        "arr = np.array(tpl)\n",
        "print(arr)\n",
        "\n",
        "lst = [1, 2, 3]\n",
        "arr = np.array(lst)\n",
        "print(arr)\n"
      ],
      "metadata": {
        "colab": {
          "base_uri": "https://localhost:8080/"
        },
        "id": "x2jBPPSdYsH6",
        "outputId": "83e95d22-3c85-4d64-b731-31a4a9e0cf31"
      },
      "execution_count": null,
      "outputs": [
        {
          "output_type": "stream",
          "name": "stdout",
          "text": [
            "[3 4 5]\n",
            "[1 2 3]\n"
          ]
        }
      ]
    },
    {
      "cell_type": "code",
      "source": [
        "# shape\n",
        "\n",
        "arr1 = np.array([1, 2, 3])\n",
        "arr2 = np.array([[1, 2, 3], [4, 5, 6]]) # 2 by 3 (2행 3열)\n",
        "print(arr1.shape, arr2.shape)\n",
        "\n",
        "# ndim\n",
        "\n",
        "print(arr1.ndim, arr2.ndim)\n",
        "\n",
        "# size\n",
        "\n",
        "print(arr1.size, arr2.size)"
      ],
      "metadata": {
        "colab": {
          "base_uri": "https://localhost:8080/"
        },
        "id": "rNkQEgCYY1YB",
        "outputId": "425a9d68-940e-4e1c-8405-0f4403d0e726"
      },
      "execution_count": null,
      "outputs": [
        {
          "output_type": "stream",
          "name": "stdout",
          "text": [
            "(3,) (2, 3)\n",
            "1 2\n",
            "3 6\n"
          ]
        }
      ]
    },
    {
      "cell_type": "markdown",
      "source": [
        "1-2. N차원 배열의 데이터 타입"
      ],
      "metadata": {
        "id": "Z1HUfaG-ZeA7"
      }
    },
    {
      "cell_type": "code",
      "source": [
        "# 리스트와는 다르게 단일 data type 만\n",
        "arr = np.array([1, 2, 3, 4.])\n",
        "\n",
        "print(arr, arr.dtype)  # data들이 float 형으로 맞춰서 출력\n",
        "\n",
        "arr = np.array([1, 2, 3, \"23\"], dtype = int)\n",
        "\n",
        "print(arr, arr.dtype) # 유니코드 형식으로 변경\n",
        "\n",
        "\n",
        "try:\n",
        "  arr = np.array([1, 2, 3, 4., \"문자열\"], dtype = int)\n",
        "  print(arr, arr.dtype)\n",
        "except ValueError as e:\n",
        "  print('Unright type, 다시 입력하세요', e)\n",
        "\n"
      ],
      "metadata": {
        "id": "BH12du_dZjDv",
        "colab": {
          "base_uri": "https://localhost:8080/"
        },
        "outputId": "8da57ea1-4f52-472a-816f-2aff61082bea"
      },
      "execution_count": null,
      "outputs": [
        {
          "output_type": "stream",
          "name": "stdout",
          "text": [
            "[1. 2. 3. 4.] float64\n",
            "[ 1  2  3 23] int64\n",
            "Unright type, 다시 입력하세요 invalid literal for int() with base 10: '문자열'\n"
          ]
        }
      ]
    },
    {
      "cell_type": "markdown",
      "source": [
        "1-3. 정해진 형식의 N차원 배열 생성하기"
      ],
      "metadata": {
        "id": "sCz2Mp_4LB2C"
      }
    },
    {
      "cell_type": "code",
      "source": [
        "# np.zeros() -> 모든 원소들이 0 으로 초기화\n",
        "arr = np.zeros([2, 2]) # parameter -> shape 설정 (행렬)\n",
        "print(arr) # 2차원 배열 생성\n",
        "\n",
        "# np.ones() -> 모든 원소들이 1 으로 초기화\n",
        "arr = np.ones([3, 5]) # x by y [x, y]\n",
        "print(arr)\n",
        "\n",
        "# np.full()\n",
        "arr = np.full((2, 3), 5)\n",
        "print(arr)\n",
        "\n",
        "# np.eye() -> 행 n by 열 m  -> Identity matrix (대각성분 이 모두 1 단위행렬)\n",
        "arr = np.eye(3, 4, k = 0)\n",
        "print(arr)\n",
        "arr = np.eye(3, 4, k = -1)\n",
        "print(arr)\n",
        "arr = np.eye(3) # n과 m 같으면 square matrix(정방행렬)\n",
        "print(arr)\n"
      ],
      "metadata": {
        "colab": {
          "base_uri": "https://localhost:8080/"
        },
        "id": "5ccuuaLBLFpZ",
        "outputId": "12c7eed4-917e-44f3-9519-1fc38e2b3b1c"
      },
      "execution_count": null,
      "outputs": [
        {
          "output_type": "stream",
          "name": "stdout",
          "text": [
            "[[0. 0.]\n",
            " [0. 0.]]\n",
            "[[1. 1. 1. 1. 1.]\n",
            " [1. 1. 1. 1. 1.]\n",
            " [1. 1. 1. 1. 1.]]\n",
            "[[5 5 5]\n",
            " [5 5 5]]\n",
            "[[1. 0. 0. 0.]\n",
            " [0. 1. 0. 0.]\n",
            " [0. 0. 1. 0.]]\n",
            "[[0. 0. 0. 0.]\n",
            " [1. 0. 0. 0.]\n",
            " [0. 1. 0. 0.]]\n",
            "[[1. 0. 0.]\n",
            " [0. 1. 0.]\n",
            " [0. 0. 1.]]\n"
          ]
        }
      ]
    },
    {
      "cell_type": "code",
      "source": [
        "arr = np.array([[1, 2, 3],\n",
        "                [4, 5, 6]])\n",
        "\n",
        "# np.zeros_like() # 원래의 배열과 동일한 shape 유지\n",
        "arr_z = np.zeros_like(arr)\n",
        "print(arr_z)\n",
        "# np.ones_like()\n",
        "arr_o = np.ones_like(arr)\n",
        "print(arr_o)\n",
        "# np.full_like()\n",
        "arr_f = np.full_like(arr, 9) # (arr, full value)\n",
        "print(arr_f)\n",
        "\n",
        "\n",
        "\n"
      ],
      "metadata": {
        "colab": {
          "base_uri": "https://localhost:8080/"
        },
        "id": "Wbe55M8UPRcI",
        "outputId": "8e758c7a-f7a0-4a1c-f859-c96e56133ecf"
      },
      "execution_count": null,
      "outputs": [
        {
          "output_type": "stream",
          "name": "stdout",
          "text": [
            "[[0 0 0]\n",
            " [0 0 0]]\n",
            "[[1 1 1]\n",
            " [1 1 1]]\n",
            "[[9 9 9]\n",
            " [9 9 9]]\n"
          ]
        }
      ]
    },
    {
      "cell_type": "markdown",
      "source": [
        "1-4. 특정 범위의 값을 가지는 N차원 배열 생성하기"
      ],
      "metadata": {
        "id": "x6IJ34IJP14n"
      }
    },
    {
      "cell_type": "code",
      "source": [
        "lst = list(range(0, 9, 2))\n",
        "print(lst)"
      ],
      "metadata": {
        "colab": {
          "base_uri": "https://localhost:8080/"
        },
        "id": "ySzfljbOP5eZ",
        "outputId": "e3334509-ece8-4b8d-b912-650d317667c2"
      },
      "execution_count": null,
      "outputs": [
        {
          "output_type": "stream",
          "name": "stdout",
          "text": [
            "[0, 2, 4, 6, 8]\n"
          ]
        }
      ]
    },
    {
      "cell_type": "code",
      "source": [
        "arr = np.arange(1, 9, 2)\n",
        "print(arr)\n",
        "arr = np.arange(start = 2, stop = 20, step = 3)\n",
        "print(arr)"
      ],
      "metadata": {
        "colab": {
          "base_uri": "https://localhost:8080/"
        },
        "id": "8K8W7fqxRlqR",
        "outputId": "faadb71a-b2d3-4142-beea-eb43d561f1d0"
      },
      "execution_count": null,
      "outputs": [
        {
          "output_type": "stream",
          "name": "stdout",
          "text": [
            "[1 3 5 7]\n",
            "[ 2  5  8 11 14 17]\n"
          ]
        }
      ]
    },
    {
      "cell_type": "code",
      "source": [
        "# np.linspace(start, stop, num) # 균등한 간격으로 배열 생성\n",
        "arr = np.linspace(0, 100, 250) # stop 값도 included\n",
        "print(arr)"
      ],
      "metadata": {
        "colab": {
          "base_uri": "https://localhost:8080/"
        },
        "id": "5DSVWl0GR2im",
        "outputId": "8a3b3546-0001-4692-cf6e-2ea20e0ce7f4"
      },
      "execution_count": null,
      "outputs": [
        {
          "output_type": "stream",
          "name": "stdout",
          "text": [
            "[  0.           0.40160643   0.80321285   1.20481928   1.6064257\n",
            "   2.00803213   2.40963855   2.81124498   3.21285141   3.61445783\n",
            "   4.01606426   4.41767068   4.81927711   5.22088353   5.62248996\n",
            "   6.02409639   6.42570281   6.82730924   7.22891566   7.63052209\n",
            "   8.03212851   8.43373494   8.83534137   9.23694779   9.63855422\n",
            "  10.04016064  10.44176707  10.84337349  11.24497992  11.64658635\n",
            "  12.04819277  12.4497992   12.85140562  13.25301205  13.65461847\n",
            "  14.0562249   14.45783133  14.85943775  15.26104418  15.6626506\n",
            "  16.06425703  16.46586345  16.86746988  17.26907631  17.67068273\n",
            "  18.07228916  18.47389558  18.87550201  19.27710843  19.67871486\n",
            "  20.08032129  20.48192771  20.88353414  21.28514056  21.68674699\n",
            "  22.08835341  22.48995984  22.89156627  23.29317269  23.69477912\n",
            "  24.09638554  24.49799197  24.89959839  25.30120482  25.70281124\n",
            "  26.10441767  26.5060241   26.90763052  27.30923695  27.71084337\n",
            "  28.1124498   28.51405622  28.91566265  29.31726908  29.7188755\n",
            "  30.12048193  30.52208835  30.92369478  31.3253012   31.72690763\n",
            "  32.12851406  32.53012048  32.93172691  33.33333333  33.73493976\n",
            "  34.13654618  34.53815261  34.93975904  35.34136546  35.74297189\n",
            "  36.14457831  36.54618474  36.94779116  37.34939759  37.75100402\n",
            "  38.15261044  38.55421687  38.95582329  39.35742972  39.75903614\n",
            "  40.16064257  40.562249    40.96385542  41.36546185  41.76706827\n",
            "  42.1686747   42.57028112  42.97188755  43.37349398  43.7751004\n",
            "  44.17670683  44.57831325  44.97991968  45.3815261   45.78313253\n",
            "  46.18473896  46.58634538  46.98795181  47.38955823  47.79116466\n",
            "  48.19277108  48.59437751  48.99598394  49.39759036  49.79919679\n",
            "  50.20080321  50.60240964  51.00401606  51.40562249  51.80722892\n",
            "  52.20883534  52.61044177  53.01204819  53.41365462  53.81526104\n",
            "  54.21686747  54.6184739   55.02008032  55.42168675  55.82329317\n",
            "  56.2248996   56.62650602  57.02811245  57.42971888  57.8313253\n",
            "  58.23293173  58.63453815  59.03614458  59.437751    59.83935743\n",
            "  60.24096386  60.64257028  61.04417671  61.44578313  61.84738956\n",
            "  62.24899598  62.65060241  63.05220884  63.45381526  63.85542169\n",
            "  64.25702811  64.65863454  65.06024096  65.46184739  65.86345382\n",
            "  66.26506024  66.66666667  67.06827309  67.46987952  67.87148594\n",
            "  68.27309237  68.6746988   69.07630522  69.47791165  69.87951807\n",
            "  70.2811245   70.68273092  71.08433735  71.48594378  71.8875502\n",
            "  72.28915663  72.69076305  73.09236948  73.4939759   73.89558233\n",
            "  74.29718876  74.69879518  75.10040161  75.50200803  75.90361446\n",
            "  76.30522088  76.70682731  77.10843373  77.51004016  77.91164659\n",
            "  78.31325301  78.71485944  79.11646586  79.51807229  79.91967871\n",
            "  80.32128514  80.72289157  81.12449799  81.52610442  81.92771084\n",
            "  82.32931727  82.73092369  83.13253012  83.53413655  83.93574297\n",
            "  84.3373494   84.73895582  85.14056225  85.54216867  85.9437751\n",
            "  86.34538153  86.74698795  87.14859438  87.5502008   87.95180723\n",
            "  88.35341365  88.75502008  89.15662651  89.55823293  89.95983936\n",
            "  90.36144578  90.76305221  91.16465863  91.56626506  91.96787149\n",
            "  92.36947791  92.77108434  93.17269076  93.57429719  93.97590361\n",
            "  94.37751004  94.77911647  95.18072289  95.58232932  95.98393574\n",
            "  96.38554217  96.78714859  97.18875502  97.59036145  97.99196787\n",
            "  98.3935743   98.79518072  99.19678715  99.59839357 100.        ]\n"
          ]
        }
      ]
    },
    {
      "cell_type": "code",
      "source": [
        "# np.logspace() -> np.linspace() 의 log버전\n",
        "\n",
        "arr = np.linspace(1, 10, 10)\n",
        "print(arr, end = \"\\n\\n\\n\")\n",
        "\n",
        "arr = np.logspace(1, 10, 10, base = 2) # exponent\n",
        "\n",
        "print(arr, end = '\\n\\n')\n",
        "\n",
        "arr = np.logspace(1, 10, 10)\n",
        "\n",
        "print(arr)"
      ],
      "metadata": {
        "colab": {
          "base_uri": "https://localhost:8080/"
        },
        "id": "Noiz77ZaSUzX",
        "outputId": "870d28c3-f9c1-413f-c274-b3acd801087a"
      },
      "execution_count": null,
      "outputs": [
        {
          "output_type": "stream",
          "name": "stdout",
          "text": [
            "[ 1.  2.  3.  4.  5.  6.  7.  8.  9. 10.]\n",
            "\n",
            "\n",
            "[   2.    4.    8.   16.   32.   64.  128.  256.  512. 1024.]\n",
            "\n",
            "[1.e+01 1.e+02 1.e+03 1.e+04 1.e+05 1.e+06 1.e+07 1.e+08 1.e+09 1.e+10]\n"
          ]
        }
      ]
    },
    {
      "cell_type": "markdown",
      "source": [
        "1-5. 난수로 이루어진 N차원 배열 생성하기"
      ],
      "metadata": {
        "id": "KUsCp3iBTE7p"
      }
    },
    {
      "cell_type": "code",
      "source": [
        "# 시각화 라이브러리 사용\n",
        "# import matplotlib.pyplot as plt"
      ],
      "metadata": {
        "id": "pzHgXBmBTG09"
      },
      "execution_count": null,
      "outputs": []
    },
    {
      "cell_type": "code",
      "source": [
        "# np.random.normal() -> 정규분표에 확률밀도에서 표본을 추출하는 함수\n",
        "\n",
        "# arr = np.random.normal(평균, 표준편차, 추출한 표본의 개수)\n",
        "\n",
        "arr = np.random.normal(0, 1, 10)\n",
        "\n",
        "print(arr)"
      ],
      "metadata": {
        "colab": {
          "base_uri": "https://localhost:8080/"
        },
        "id": "HID-eqVJTdRl",
        "outputId": "75d68bb8-ba36-40e6-dc53-6b1326d3354b"
      },
      "execution_count": null,
      "outputs": [
        {
          "output_type": "stream",
          "name": "stdout",
          "text": [
            "[ 0.48942532  0.68021003  0.8655527   0.49193779 -0.71682998  0.4293311\n",
            "  1.05941774  1.68273271  1.05618909 -0.4645619 ]\n"
          ]
        }
      ]
    },
    {
      "cell_type": "code",
      "source": [
        "arr = np.random.normal(0, 1, 100)\n",
        "plt.hist(arr, bins = 100)\n",
        "plt.show()"
      ],
      "metadata": {
        "colab": {
          "base_uri": "https://localhost:8080/",
          "height": 430
        },
        "id": "QDecjicCT52g",
        "outputId": "98a677c8-4590-4749-ff1b-ab2e88dfe95e"
      },
      "execution_count": null,
      "outputs": [
        {
          "output_type": "display_data",
          "data": {
            "text/plain": [
              "<Figure size 640x480 with 1 Axes>"
            ],
            "image/png": "[encoded data removed]"
          },
          "metadata": {}
        }
      ]
    },
    {
      "cell_type": "code",
      "source": [
        "# np.random.rand() (0~1사이 값을 균등한 비율로 표본 추출)\n",
        "arr = np.random.rand(1000) # parameter -> 표본 개수\n",
        "plt.hist(arr, bins = 100)\n",
        "plt.show()"
      ],
      "metadata": {
        "colab": {
          "base_uri": "https://localhost:8080/",
          "height": 430
        },
        "id": "94hmqwRxULnd",
        "outputId": "0408f493-4785-4262-90fb-06b89eaa07e5"
      },
      "execution_count": null,
      "outputs": [
        {
          "output_type": "display_data",
          "data": {
            "text/plain": [
              "<Figure size 640x480 with 1 Axes>"
            ],
            "image/png": "[encoded data removed]"
          },
          "metadata": {}
        }
      ]
    },
    {
      "cell_type": "code",
      "source": [
        "# np.random.randn() (-1~1 까지 수를 정규분포(가우시안 분포) 추출 하는 함수)\n",
        "\n",
        "arr = np.random.randn(1000)\n",
        "plt.hist(arr, bins = 100)\n",
        "plt.show()"
      ],
      "metadata": {
        "colab": {
          "base_uri": "https://localhost:8080/",
          "height": 430
        },
        "id": "hp3ex2yKUmay",
        "outputId": "ce353ff4-7ec4-4fe1-f21d-150745c01800"
      },
      "execution_count": null,
      "outputs": [
        {
          "output_type": "display_data",
          "data": {
            "text/plain": [
              "<Figure size 640x480 with 1 Axes>"
            ],
            "image/png": "[encoded data removed]"
          },
          "metadata": {}
        }
      ]
    },
    {
      "cell_type": "code",
      "source": [
        "# np.random.randint() -> 무작위 정수 출력\n",
        "arr = np.random.randint(low = 1, high = 5, size = (3, 4)) # 1부터 5 미만까지의 값 10개\n",
        "print(arr)"
      ],
      "metadata": {
        "colab": {
          "base_uri": "https://localhost:8080/"
        },
        "id": "_Mq22DSqU5W2",
        "outputId": "57e0f7cd-4994-469a-e0e9-947c22329bb2"
      },
      "execution_count": null,
      "outputs": [
        {
          "output_type": "stream",
          "name": "stdout",
          "text": [
            "[[2 1 4 4]\n",
            " [1 1 3 2]\n",
            " [2 2 4 4]]\n"
          ]
        }
      ]
    },
    {
      "cell_type": "code",
      "source": [
        "arr = np.random.randint(100, 200, 1000)\n",
        "plt.hist(arr, bins = 100)\n",
        "plt.show()"
      ],
      "metadata": {
        "colab": {
          "base_uri": "https://localhost:8080/",
          "height": 430
        },
        "id": "c504LGyyVgye",
        "outputId": "7e6348a4-9817-4a1a-855c-b0d64489675a"
      },
      "execution_count": null,
      "outputs": [
        {
          "output_type": "display_data",
          "data": {
            "text/plain": [
              "<Figure size 640x480 with 1 Axes>"
            ],
            "image/png": "[encoded data removed]"
          },
          "metadata": {}
        }
      ]
    },
    {
      "cell_type": "markdown",
      "source": [
        "1-6. 시드(Seed) 값을 통한 난수 생성 제어"
      ],
      "metadata": {
        "id": "sfdnxsR1Vz6u"
      }
    },
    {
      "cell_type": "code",
      "source": [
        "arr = np.random.rand(10)\n",
        "print(\"난수 발생1 \\n\", arr)\n",
        "\n",
        "arr = np.random.rand(10)\n",
        "print(\"난수 발생2 \\n\", arr)"
      ],
      "metadata": {
        "colab": {
          "base_uri": "https://localhost:8080/"
        },
        "id": "T_BXcizTV4-9",
        "outputId": "20feb76b-5a79-4d80-d0bd-2a3074fd4df0"
      },
      "execution_count": null,
      "outputs": [
        {
          "output_type": "stream",
          "name": "stdout",
          "text": [
            "난수 발생1 \n",
            " [0.24717137 0.34359581 0.73244853 0.24413576 0.72446297 0.21213628\n",
            " 0.76990496 0.27293853 0.87468929 0.81818921]\n",
            "난수 발생2 \n",
            " [0.35208016 0.55498394 0.33546684 0.96507607 0.3535674  0.01573436\n",
            " 0.66300482 0.22160938 0.39097112 0.94105986]\n"
          ]
        }
      ]
    },
    {
      "cell_type": "code",
      "source": [
        "# Seed 값을 통해 난수 발생 시작점 제어\n",
        "\n",
        "np.random.seed(1)\n",
        "\n",
        "arr1 = np.random.rand(10)\n",
        "print(\"난수 발생1 \\n\", arr1)\n",
        "\n",
        "np.random.seed(1)\n",
        "\n",
        "arr2 = np.random.rand(10)\n",
        "print(\"난수 발생2 \\n\", arr2)\n",
        "\n",
        "print(arr1 == arr2)\n",
        "\n"
      ],
      "metadata": {
        "colab": {
          "base_uri": "https://localhost:8080/"
        },
        "id": "Z9qZzzUQWNcV",
        "outputId": "383fd6c3-6f88-4522-fee2-6264f4e633c5"
      },
      "execution_count": null,
      "outputs": [
        {
          "output_type": "stream",
          "name": "stdout",
          "text": [
            "난수 발생1 \n",
            " [4.17022005e-01 7.20324493e-01 1.14374817e-04 3.02332573e-01\n",
            " 1.46755891e-01 9.23385948e-02 1.86260211e-01 3.45560727e-01\n",
            " 3.96767474e-01 5.38816734e-01]\n",
            "난수 발생2 \n",
            " [4.17022005e-01 7.20324493e-01 1.14374817e-04 3.02332573e-01\n",
            " 1.46755891e-01 9.23385948e-02 1.86260211e-01 3.45560727e-01\n",
            " 3.96767474e-01 5.38816734e-01]\n",
            "[ True  True  True  True  True  True  True  True  True  True]\n"
          ]
        }
      ]
    },
    {
      "cell_type": "markdown",
      "source": [
        "Section 2. N차원 배열의 인덱싱"
      ],
      "metadata": {
        "id": "XIqQiqi8VezP"
      }
    },
    {
      "cell_type": "markdown",
      "source": [
        "2-1. 배열의 index 접근하기"
      ],
      "metadata": {
        "id": "5wJT6mVsVh8Q"
      }
    },
    {
      "cell_type": "code",
      "source": [
        "# 1차원 배열\n",
        "arr = np.arange(10)\n",
        "print(arr)\n",
        "\n",
        "print(arr[3])\n",
        "print(arr[1])\n",
        "try:\n",
        "  print(arr[10])\n",
        "except IndexError as e:\n",
        "  print('Invalid index', e)\n",
        "print(arr[-1])\n"
      ],
      "metadata": {
        "colab": {
          "base_uri": "https://localhost:8080/"
        },
        "id": "tUZcy4BAVkpo",
        "outputId": "5fa3b204-c554-4763-9a61-bed4149afeac"
      },
      "execution_count": 9,
      "outputs": [
        {
          "output_type": "stream",
          "name": "stdout",
          "text": [
            "[0 1 2 3 4 5 6 7 8 9]\n",
            "3\n",
            "1\n",
            "Invalid index index 10 is out of bounds for axis 0 with size 10\n",
            "9\n"
          ]
        }
      ]
    },
    {
      "cell_type": "code",
      "source": [
        "# 2차원 배열\n",
        "\n",
        "arr = np.array([[1, 2, 3, 4],\n",
        "                [5, 6, 7, 8],\n",
        "                [9, 10, 11, 12]])\n",
        "print(arr, arr.shape, arr.ndim)\n",
        "print(arr[0][3]) # value 4를 가져오는 방법 [x][y] x행y열\n",
        "print(arr[0, 3])"
      ],
      "metadata": {
        "colab": {
          "base_uri": "https://localhost:8080/"
        },
        "id": "kWSToRCDWViZ",
        "outputId": "3025142d-7994-4ce6-d86c-763268ed0500"
      },
      "execution_count": 15,
      "outputs": [
        {
          "output_type": "stream",
          "name": "stdout",
          "text": [
            "[[ 1  2  3  4]\n",
            " [ 5  6  7  8]\n",
            " [ 9 10 11 12]] (3, 4) 2\n",
            "4\n",
            "4\n"
          ]
        }
      ]
    },
    {
      "cell_type": "code",
      "source": [
        "arr = np.arange(10)\n",
        "\n",
        "print(arr[3:8]) # slicing\n",
        "print(arr[3:])\n",
        "print(arr[:7])"
      ],
      "metadata": {
        "colab": {
          "base_uri": "https://localhost:8080/"
        },
        "id": "MGTMnEncWwD8",
        "outputId": "7c48aaa0-da71-4649-9a07-bc5a0dd19a20"
      },
      "execution_count": 22,
      "outputs": [
        {
          "output_type": "stream",
          "name": "stdout",
          "text": [
            "[3 4 5 6 7]\n",
            "[3 4 5 6 7 8 9]\n",
            "[0 1 2 3 4 5 6]\n",
            "[0 1 2 3 4 5 6 7 8 9]\n"
          ]
        }
      ]
    },
    {
      "cell_type": "code",
      "source": [
        "arr = np.array([[1, 2, 3, 4],\n",
        "                [5, 6, 7, 8],\n",
        "                [9, 10, 11, 12]])\n",
        "\n",
        "print(arr[0, :])\n",
        "print(arr[:, 1])"
      ],
      "metadata": {
        "colab": {
          "base_uri": "https://localhost:8080/"
        },
        "id": "a0UJT2l4XJtn",
        "outputId": "e8a5ef03-e81b-49ef-edcc-fef196019709"
      },
      "execution_count": 25,
      "outputs": [
        {
          "output_type": "stream",
          "name": "stdout",
          "text": [
            "[1 2 3 4]\n",
            "[ 2  6 10]\n"
          ]
        }
      ]
    },
    {
      "cell_type": "code",
      "source": [
        "print(arr[:3, :])\n",
        "print(arr[:2, 2:])"
      ],
      "metadata": {
        "colab": {
          "base_uri": "https://localhost:8080/"
        },
        "id": "amUc8ZgTXdOE",
        "outputId": "d88483a3-e31a-4fcc-c211-121fe53d4a1e"
      },
      "execution_count": 27,
      "outputs": [
        {
          "output_type": "stream",
          "name": "stdout",
          "text": [
            "[[ 1  2  3  4]\n",
            " [ 5  6  7  8]\n",
            " [ 9 10 11 12]]\n",
            "[[3 4]\n",
            " [7 8]]\n"
          ]
        }
      ]
    },
    {
      "cell_type": "markdown",
      "source": [
        "2-2. 배열의 Fancy 인덱싱"
      ],
      "metadata": {
        "id": "C1WBvo2rYV5E"
      }
    },
    {
      "cell_type": "code",
      "source": [
        "# 1차원 배열\n",
        "arr = np.array([5, 10 ,15, 20, 25, 30])\n",
        "print(arr[[0, 2, 4]])"
      ],
      "metadata": {
        "colab": {
          "base_uri": "https://localhost:8080/"
        },
        "id": "A-vmFu6dYXx0",
        "outputId": "1c1c1b43-1306-4d4e-f22c-dda9c511c5f3"
      },
      "execution_count": 28,
      "outputs": [
        {
          "output_type": "stream",
          "name": "stdout",
          "text": [
            "[ 5 15 35]\n"
          ]
        }
      ]
    },
    {
      "cell_type": "code",
      "source": [
        "# 2차원 배열\n",
        "arr = np.array([[1, 2, 3, 4],\n",
        "                [5, 6, 7, 8],\n",
        "                [9, 10, 11, 12]])\n",
        "print(arr[[0,2], 2:]) # 0과 2행 가져오기 -> 2열부터 끝까지\n",
        "print(arr[1:, [2, 3]])"
      ],
      "metadata": {
        "colab": {
          "base_uri": "https://localhost:8080/"
        },
        "id": "UGq_xXzoYksC",
        "outputId": "12eace33-40e3-44f3-ebe5-f2d6c6f060d3"
      },
      "execution_count": 30,
      "outputs": [
        {
          "output_type": "stream",
          "name": "stdout",
          "text": [
            "[[ 3  4]\n",
            " [11 12]]\n",
            "[[ 7  8]\n",
            " [11 12]]\n"
          ]
        }
      ]
    }
  ]
}